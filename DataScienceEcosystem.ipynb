{
  "metadata": {
    "kernelspec": {
      "name": "python",
      "display_name": "Python (Pyodide)",
      "language": "python"
    },
    "language_info": {
      "codemirror_mode": {
        "name": "python",
        "version": 3
      },
      "file_extension": ".py",
      "mimetype": "text/x-python",
      "name": "python",
      "nbconvert_exporter": "python",
      "pygments_lexer": "ipython3",
      "version": "3.8"
    }
  },
  "nbformat_minor": 5,
  "nbformat": 4,
  "cells": [
    {
      "id": "33a5a2a0-aacc-4ad0-a254-55042c88dedd",
      "cell_type": "markdown",
      "source": "# H1: Data Science Tools and Ecosystems",
      "metadata": {}
    },
    {
      "id": "24f2a7dc-dd96-4dea-8ca8-b45c4fcea72e",
      "cell_type": "markdown",
      "source": "In this notebook, Data Science Tools and Ecosystem are summarized.",
      "metadata": {}
    },
    {
      "id": "2a3cce2f-36b7-4f0c-81f2-0ff13aed828c",
      "cell_type": "markdown",
      "source": "**Objectives:**\n- List popular languages in for Data Science\n- List common libraries used by Data Scientist\n- List three development evironment\n- Perform arithematic operations",
      "metadata": {}
    },
    {
      "id": "33282458-c0ad-47f1-8371-4ac36363ebb4",
      "cell_type": "markdown",
      "source": "Some of the popular languages that Data Scientists use are:\n1. Python\n2. R\n3. Scala",
      "metadata": {}
    },
    {
      "id": "255979a1-1274-421a-853c-39001000d8a4",
      "cell_type": "markdown",
      "source": "Some of the commonly used libraries used by Data Scientists include:\n1. Tensorflow\n2. Numpy\n3. Pandas",
      "metadata": {}
    },
    {
      "id": "7a66b144-06b9-4d60-97d1-d9d5d1207106",
      "cell_type": "markdown",
      "source": "| Data Science Tools |\n|:------------------:|\n|        Git         |\n|    Visual Studio   |\n|      Eclipse       |",
      "metadata": {}
    },
    {
      "id": "3d30cbb4-3889-41a8-b187-3723a35aabf0",
      "cell_type": "markdown",
      "source": "### H3 : Below are a few examples of evaluating arithmetic expressions in Python.",
      "metadata": {}
    },
    {
      "id": "942588bc-cd83-4bc3-8b52-cd9f3e2038da",
      "cell_type": "code",
      "source": "#This a simple arithmetic expression to mutiply then add integers\n(3*4)+5",
      "metadata": {
        "trusted": true
      },
      "outputs": [
        {
          "execution_count": 2,
          "output_type": "execute_result",
          "data": {
            "text/plain": "17"
          },
          "metadata": {}
        }
      ],
      "execution_count": 2
    },
    {
      "id": "4b3ef1fe-f918-4023-b519-df55daa9bf86",
      "cell_type": "code",
      "source": "#This will convert 200 minutes to hours by diving by 60\nmin = 200\nhour_1 = int(200/60)\nhour_2 = (200%60)\nprint(hour_1,\"hours\",hour_2,\"min\")",
      "metadata": {
        "trusted": true
      },
      "outputs": [
        {
          "name": "stdout",
          "text": "3 hours 20 min\n",
          "output_type": "stream"
        }
      ],
      "execution_count": 8
    },
    {
      "id": "d105f838-8ff6-44b7-98cf-47a76970e50c",
      "cell_type": "markdown",
      "source": "## H2 : Author\n        Harsh",
      "metadata": {}
    }
  ]
}